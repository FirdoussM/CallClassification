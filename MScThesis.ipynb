{
 "cells": [
  {
   "cell_type": "markdown",
   "id": "98b3a77c-063e-449a-b852-b523e7c9831c",
   "metadata": {},
   "source": [
    "# Thesis Project: Automated Call Classification\n",
    "##### MISIS: M00736335\n",
    "##### CST 4090"
   ]
  },
  {
   "cell_type": "code",
   "execution_count": 216,
   "id": "183333c4-bcf4-47da-8db1-34349c744dcc",
   "metadata": {},
   "outputs": [],
   "source": [
    "import pandas as pd\n",
    "import matplotlib.pyplot as plt\n",
    "import seaborn as sns\n",
    "from sklearn.feature_extraction.text import TfidfVectorizer # Feature extraction\n",
    "from sklearn.model_selection import train_test_split\n",
    "from sklearn.linear_model import LogisticRegression # Train logistic regression\n",
    "from sklearn.metrics import confusion_matrix, classification_report, accuracy_score\n",
    "from sklearn.model_selection import cross_val_score, KFold\n",
    "from sklearn.tree import DecisionTreeClassifier\n",
    "from sklearn.ensemble import RandomForestClassifier\n",
    "from sklearn.svm import SVC\n",
    "import warnings\n",
    "from sklearn.exceptions import ConvergenceWarning\n",
    "from sklearn.linear_model import LogisticRegression\n",
    "from sklearn.tree import DecisionTreeClassifier\n",
    "from sklearn.ensemble import RandomForestClassifier\n",
    "from sklearn.svm import SVC\n",
    "from sklearn.model_selection import GridSearchCV\n",
    "import pandas as pd\n",
    "import numpy as np\n",
    "from sklearn.model_selection import train_test_split\n",
    "from sklearn.preprocessing import LabelEncoder\n",
    "from tensorflow.keras.preprocessing.text import Tokenizer\n",
    "from tensorflow.keras.preprocessing.sequence import pad_sequences\n",
    "from tensorflow.keras.models import Sequential\n",
    "from tensorflow.keras.layers import Embedding, LSTM, Dense, Dropout\n",
    "from tensorflow.keras.preprocessing.text import Tokenizer\n",
    "from sklearn.metrics import confusion_matrix, ConfusionMatrixDisplay\n",
    "import string\n",
    "from nltk.corpus import stopwords\n",
    "from nltk.tokenize import word_tokenize\n",
    "from nltk.stem import WordNetLemmatizer\n",
    "import nltk"
   ]
  },
  {
   "cell_type": "code",
   "execution_count": 188,
   "id": "f87a82d0-3704-4022-a5a6-fca7b9cdbdd6",
   "metadata": {},
   "outputs": [],
   "source": [
    "# Suppress ConvergenceWarnings\n",
    "warnings.filterwarnings(\"ignore\", category=ConvergenceWarning)"
   ]
  },
  {
   "cell_type": "markdown",
   "id": "0d4cf90e-c48a-4a31-8542-40a1b855e241",
   "metadata": {},
   "source": [
    "### 2. Data Preparation"
   ]
  },
  {
   "cell_type": "code",
   "execution_count": 82,
   "id": "5b37347b-31b5-4d7c-97f6-b1b30ee093d0",
   "metadata": {},
   "outputs": [],
   "source": [
    "import ssl\n",
    "ssl._create_default_https_context = ssl._create_unverified_context\n"
   ]
  },
  {
   "cell_type": "code",
   "execution_count": 84,
   "id": "4e14ba86-5fe9-4831-981e-714ada6bbbce",
   "metadata": {},
   "outputs": [],
   "source": [
    "filePath = 'Emergency_call_Final_data.csv'\n",
    "df = pd.read_csv(filePath)"
   ]
  },
  {
   "cell_type": "code",
   "execution_count": 85,
   "id": "a39c8faf-5726-4324-942e-1cf6e55dce1c",
   "metadata": {},
   "outputs": [
    {
     "name": "stdout",
     "output_type": "stream",
     "text": [
      "               Call Type                                      Transcription\n",
      "0         Emergency call  This is the Bulkovia bank of 13 two west Inter...\n",
      "1  Not an emergency call  Yes, we're at the Nelson building, and there's...\n",
      "2  Not an emergency call  Listen, we're really bad, okay? You got attack...\n",
      "3  Not an emergency call  I'm walking in the field. I don't know where I...\n",
      "4         Emergency call  Somebody just sent the police officer. Okay, w...\n"
     ]
    }
   ],
   "source": [
    "print(df.head())"
   ]
  },
  {
   "cell_type": "code",
   "execution_count": 142,
   "id": "65357342-6542-4f9a-a077-701d4a9b331b",
   "metadata": {},
   "outputs": [],
   "source": [
    "df = df.drop('Call Type', axis=1)"
   ]
  },
  {
   "cell_type": "code",
   "execution_count": 86,
   "id": "b652bbed-c5af-4b52-af75-7f576ec23f22",
   "metadata": {},
   "outputs": [
    {
     "data": {
      "text/plain": [
       "Call Type        539\n",
       "Transcription    539\n",
       "dtype: int64"
      ]
     },
     "execution_count": 86,
     "metadata": {},
     "output_type": "execute_result"
    }
   ],
   "source": [
    "df.count()"
   ]
  },
  {
   "cell_type": "code",
   "execution_count": 87,
   "id": "54bf5f94-550a-4184-9f76-7783d79e2569",
   "metadata": {},
   "outputs": [
    {
     "name": "stdout",
     "output_type": "stream",
     "text": [
      "\n",
      "Column names:\n",
      "Index(['Call Type', 'Transcription'], dtype='object')\n"
     ]
    }
   ],
   "source": [
    "# Inspect column names\n",
    "print(\"\\nColumn names:\")\n",
    "print(df.columns)"
   ]
  },
  {
   "cell_type": "code",
   "execution_count": 215,
   "id": "68ebdfe6-93b1-4059-93a9-f590b407c758",
   "metadata": {},
   "outputs": [
    {
     "name": "stdout",
     "output_type": "stream",
     "text": [
      "\n",
      "Data types of each column:\n",
      "Transcription             object\n",
      "Tokens                    object\n",
      "VaderSentimentScore      float64\n",
      "Vader Sentiment Score    float64\n",
      "TextBlob Polarity        float64\n",
      "TextBlob Subjectivity    float64\n",
      "TextBlobPolarity         float64\n",
      "TextBlobSubjectivity     float64\n",
      "Type                       int64\n",
      "dtype: object\n"
     ]
    }
   ],
   "source": [
    "print(\"\\nData types of each column:\") # Check the data types of each column\n",
    "print(df.dtypes)"
   ]
  },
  {
   "cell_type": "code",
   "execution_count": 89,
   "id": "fd92fea3-492a-4310-b20a-1a0133c0840f",
   "metadata": {},
   "outputs": [
    {
     "name": "stdout",
     "output_type": "stream",
     "text": [
      "\n",
      "Missing values in each column:\n",
      "Call Type        0\n",
      "Transcription    0\n",
      "dtype: int64\n"
     ]
    }
   ],
   "source": [
    "print(\"\\nMissing values in each column:\")\n",
    "print(df.isnull().sum())"
   ]
  },
  {
   "cell_type": "markdown",
   "id": "92997f38-0ff0-40c4-b688-96c0aa8adcf2",
   "metadata": {},
   "source": [
    "### 3. Data Preprocessing"
   ]
  },
  {
   "cell_type": "code",
   "execution_count": 91,
   "id": "ca9a5a62-59db-4d28-9172-2d181876e55c",
   "metadata": {},
   "outputs": [
    {
     "name": "stderr",
     "output_type": "stream",
     "text": [
      "[nltk_data] Downloading package punkt to\n",
      "[nltk_data]     /Users/firdousmohammed/nltk_data...\n",
      "[nltk_data]   Package punkt is already up-to-date!\n",
      "[nltk_data] Downloading package wordnet to\n",
      "[nltk_data]     /Users/firdousmohammed/nltk_data...\n",
      "[nltk_data]   Package wordnet is already up-to-date!\n",
      "[nltk_data] Downloading package stopwords to\n",
      "[nltk_data]     /Users/firdousmohammed/nltk_data...\n",
      "[nltk_data]   Package stopwords is already up-to-date!\n"
     ]
    },
    {
     "data": {
      "text/plain": [
       "True"
      ]
     },
     "execution_count": 91,
     "metadata": {},
     "output_type": "execute_result"
    }
   ],
   "source": [
    "# Downloading necessary NLTK data files\n",
    "nltk.download('punkt')\n",
    "nltk.download('wordnet')\n",
    "nltk.download('stopwords')"
   ]
  },
  {
   "cell_type": "code",
   "execution_count": 217,
   "id": "fceb1ee5-f222-4f47-9e37-0324c3dab6f3",
   "metadata": {},
   "outputs": [],
   "source": [
    "lemmatizr = WordNetLemmatizer() # Initialize the lemmatizer and stop words list\n",
    "stopWo = set(stopwords.words('english'))"
   ]
  },
  {
   "cell_type": "code",
   "execution_count": 94,
   "id": "63e722fb-dded-4ee6-8d84-3140b31e4875",
   "metadata": {},
   "outputs": [],
   "source": [
    "# text preprocessing\n",
    "def preprocess(text):\n",
    "    text = text.lower()\n",
    "    text = text.translate(str.maketrans('', '', string.punctuation))\n",
    "    text = ''.join([char for char in text if not char.isdigit()])\n",
    "    text = ' '.join(word for word in text.split() if word not in stopWo)\n",
    "    text = ' '.join(lemmatizr.lemmatize(word) for word in word_tokenize(text))\n",
    "    return text"
   ]
  },
  {
   "cell_type": "code",
   "execution_count": 95,
   "id": "a2a250db-d586-4d1d-b79a-5410092a18a3",
   "metadata": {},
   "outputs": [],
   "source": [
    "# Apply on column\n",
    "df['Transcription'] = df['Transcription'].apply(preprocess)"
   ]
  },
  {
   "cell_type": "code",
   "execution_count": 96,
   "id": "99a52935-491b-4e31-bfb6-71106a87e01d",
   "metadata": {},
   "outputs": [],
   "source": [
    "df['Tokens'] = df['Transcription'].apply(word_tokenize)"
   ]
  },
  {
   "cell_type": "code",
   "execution_count": 97,
   "id": "2f7bdda0-7f6e-4b62-94f1-9093150a9460",
   "metadata": {},
   "outputs": [
    {
     "name": "stdout",
     "output_type": "stream",
     "text": [
      "First few rows of the preprocessed text:\n",
      "                                       Transcription  \\\n",
      "0  bulkovia bank two west international speedway ...   \n",
      "1  yes nelson building there man adult came board...   \n",
      "2         listen really bad okay got attacked people   \n",
      "3  im walking field dont know youre walking field...   \n",
      "4  somebody sent police officer okay whats addres...   \n",
      "\n",
      "                                              Tokens  \n",
      "0  [bulkovia, bank, two, west, international, spe...  \n",
      "1  [yes, nelson, building, there, man, adult, cam...  \n",
      "2  [listen, really, bad, okay, got, attacked, peo...  \n",
      "3  [im, walking, field, dont, know, youre, walkin...  \n",
      "4  [somebody, sent, police, officer, okay, whats,...  \n"
     ]
    }
   ],
   "source": [
    "print(\"First few rows of the preprocessed text:\")\n",
    "print(df[['Transcription', 'Tokens']].head())"
   ]
  },
  {
   "cell_type": "markdown",
   "id": "e9edfdd3-931a-4337-9759-4f482dc4e306",
   "metadata": {},
   "source": [
    "### 4. Sentiment Analysis\n",
    "1. VADER Sentiment Analysis"
   ]
  },
  {
   "cell_type": "code",
   "execution_count": 126,
   "id": "fd25db23-f684-468a-9eb5-7dbd3304b3f4",
   "metadata": {},
   "outputs": [],
   "source": [
    "from vaderSentiment.vaderSentiment import SentimentIntensityAnalyzer"
   ]
  },
  {
   "cell_type": "code",
   "execution_count": 127,
   "id": "0338a2a1-2398-4caa-b9a5-0faa86288c15",
   "metadata": {},
   "outputs": [],
   "source": [
    "# Initialize\n",
    "vadrAnalyzr = SentimentIntensityAnalyzer()"
   ]
  },
  {
   "cell_type": "code",
   "execution_count": 128,
   "id": "9eea16c3-5fdf-438d-9270-04e195799cf2",
   "metadata": {},
   "outputs": [],
   "source": [
    "# Function to compute VADER sentiment score\n",
    "def vaderSS(text):\n",
    "    sentimentDict = vadrAnalyzr.polarity_scores(text)\n",
    "    return sentimentDict['compound']"
   ]
  },
  {
   "cell_type": "code",
   "execution_count": 129,
   "id": "a8a58f6d-0e37-4307-9a97-35bbb5b7abcb",
   "metadata": {},
   "outputs": [],
   "source": [
    "# Apply the VADER sentiment analysis\n",
    "df['VaderSentimentScore'] = df['Transcription'].apply(vaderSS)"
   ]
  },
  {
   "cell_type": "code",
   "execution_count": 130,
   "id": "3a6171a2-a82a-4d63-92fa-f243b6f6c5be",
   "metadata": {},
   "outputs": [
    {
     "name": "stdout",
     "output_type": "stream",
     "text": [
      "First few rows of VADER sentiment scores:\n",
      "                                       Transcription  VaderSentimentScore\n",
      "0  bulkovia bank two west international speedway ...               0.2263\n",
      "1  yes nelson building there man adult came board...               0.5574\n",
      "2         listen really bad okay got attacked people              -0.6823\n",
      "3  im walking field dont know youre walking field...               0.1531\n",
      "4  somebody sent police officer okay whats addres...               0.2263\n"
     ]
    }
   ],
   "source": [
    "print(\"First few rows of VADER sentiment scores:\")\n",
    "print(df[['Transcription', 'VaderSentimentScore']].head())"
   ]
  },
  {
   "cell_type": "markdown",
   "id": "831304c9-79dc-435e-80d3-e4689ad17f36",
   "metadata": {},
   "source": [
    "2. TextBlob Sentiment Analysis"
   ]
  },
  {
   "cell_type": "code",
   "execution_count": 131,
   "id": "92902507-d747-48fc-8caa-c38687501587",
   "metadata": {},
   "outputs": [],
   "source": [
    "from textblob import TextBlob"
   ]
  },
  {
   "cell_type": "code",
   "execution_count": 132,
   "id": "1f99ce0b-7722-4a33-a3aa-6a424c81ddea",
   "metadata": {},
   "outputs": [],
   "source": [
    "# Function to compute TextBlob polarity and subjectivity\n",
    "def tbSentiment(text):\n",
    "    blob = TextBlob(text)\n",
    "    return blob.sentiment.polarity, blob.sentiment.subjectivity"
   ]
  },
  {
   "cell_type": "code",
   "execution_count": 133,
   "id": "00c39691-a52d-4883-bfc3-a344968378a4",
   "metadata": {},
   "outputs": [],
   "source": [
    "# Apply TextBlob sentiment analysis\n",
    "df['TextBlobPolarity'], df['TextBlobSubjectivity'] = zip(*df['Transcription'].apply(tbSentiment))"
   ]
  },
  {
   "cell_type": "code",
   "execution_count": 134,
   "id": "61339b93-006a-4fcb-90ba-305382ce8523",
   "metadata": {},
   "outputs": [
    {
     "name": "stdout",
     "output_type": "stream",
     "text": [
      "First few rows of TextBlob sentiment polarity and subjectivity:\n",
      "                                       Transcription  TextBlobPolarity  \\\n",
      "0  bulkovia bank two west international speedway ...              0.25   \n",
      "1  yes nelson building there man adult came board...              0.30   \n",
      "2         listen really bad okay got attacked people             -0.10   \n",
      "3  im walking field dont know youre walking field...              0.50   \n",
      "4  somebody sent police officer okay whats addres...              0.50   \n",
      "\n",
      "   TextBlobSubjectivity  \n",
      "0              0.250000  \n",
      "1              0.400000  \n",
      "2              0.583333  \n",
      "3              0.500000  \n",
      "4              0.500000  \n"
     ]
    }
   ],
   "source": [
    "print(\"First few rows of TextBlob sentiment polarity and subjectivity:\")\n",
    "print(df[['Transcription', 'TextBlobPolarity', 'TextBlobSubjectivity']].head())"
   ]
  },
  {
   "cell_type": "markdown",
   "id": "6307fcb1-448f-43fb-a261-7cbc2c153b4c",
   "metadata": {},
   "source": [
    "### 5. Determine Threshold for Classification"
   ]
  },
  {
   "cell_type": "markdown",
   "id": "78db2cff-9599-4828-a9c7-8fe0df0ba2be",
   "metadata": {},
   "source": [
    "1. Histogram of VADER Sentiment Scores"
   ]
  },
  {
   "cell_type": "code",
   "execution_count": 135,
   "id": "1b17f341-e205-497e-b46f-0f83c417756e",
   "metadata": {},
   "outputs": [
    {
     "data": {
      "image/png": "[encoded data removed]",
      "text/plain": [
       "<Figure size 1000x600 with 1 Axes>"
      ]
     },
     "metadata": {},
     "output_type": "display_data"
    }
   ],
   "source": [
    "# Plot distribution of VADER sentiment scores\n",
    "plt.figure(figsize=(10, 6))\n",
    "sns.histplot(df['VaderSentimentScore'], bins=30, kde=True)\n",
    "plt.title('Distribution of VADER Sentiment Scores')\n",
    "plt.xlabel('VADER Sentiment Score')\n",
    "plt.ylabel('Frequency')\n",
    "plt.axvline(x=0.25, color='red', linestyle='--', label='Threshold (0.25)')\n",
    "plt.legend()\n",
    "plt.show()"
   ]
  },
  {
   "cell_type": "markdown",
   "id": "5610bb76-2cfd-4642-8281-d628c82cfebd",
   "metadata": {},
   "source": [
    "2. Box Plot of VADER Sentiment Scores"
   ]
  },
  {
   "cell_type": "code",
   "execution_count": 136,
   "id": "c72d0bf2-93a1-4480-a7f3-33d775eafb28",
   "metadata": {},
   "outputs": [
    {
     "data": {
      "image/png": "[encoded data removed]",
      "text/plain": [
       "<Figure size 800x500 with 1 Axes>"
      ]
     },
     "metadata": {},
     "output_type": "display_data"
    }
   ],
   "source": [
    "# BoxPlot\n",
    "plt.figure(figsize=(8, 5))\n",
    "sns.boxplot(y=df['VaderSentimentScore'])\n",
    "plt.title('Box Plot of VADER Sentiment Scores')\n",
    "plt.ylabel('VADER Sentiment Score')\n",
    "plt.axhline(y=0.25, color='red', linestyle='--', label='Threshold (0)')\n",
    "plt.legend()\n",
    "plt.show()"
   ]
  },
  {
   "cell_type": "code",
   "execution_count": 137,
   "id": "ab224df5-282b-4b9e-97aa-cb8c54c4ff6d",
   "metadata": {},
   "outputs": [
    {
     "data": {
      "image/png": "[encoded data removed]",
      "text/plain": [
       "<Figure size 1000x600 with 1 Axes>"
      ]
     },
     "metadata": {},
     "output_type": "display_data"
    }
   ],
   "source": [
    "# Kernel Density Estimate\n",
    "plt.figure(figsize=(10, 6))\n",
    "sns.kdeplot(df['VaderSentimentScore'], fill=True)\n",
    "plt.title('KDE Plot of VADER Sentiment Scores')\n",
    "plt.xlabel('VADER Sentiment Score')\n",
    "plt.ylabel('Density')\n",
    "plt.axvline(x=0.25, color='red', linestyle='--', label='Threshold (0)')\n",
    "plt.legend()\n",
    "plt.show()"
   ]
  },
  {
   "cell_type": "code",
   "execution_count": 138,
   "id": "bbc1a2bc-ffa4-4610-81d4-c8f3e605c9fe",
   "metadata": {},
   "outputs": [
    {
     "name": "stdout",
     "output_type": "stream",
     "text": [
      "count    539.000000\n",
      "mean       0.038675\n",
      "std        0.366710\n",
      "min       -0.923100\n",
      "25%       -0.177900\n",
      "50%        0.000000\n",
      "75%        0.296000\n",
      "max        0.930000\n",
      "Name: VaderSentimentScore, dtype: float64\n"
     ]
    }
   ],
   "source": [
    "print(df['VaderSentimentScore'].describe())"
   ]
  },
  {
   "cell_type": "markdown",
   "id": "343623a3-a086-4f37-900f-fb7e54dbd33e",
   "metadata": {},
   "source": [
    "### 6. Creating a Type column"
   ]
  },
  {
   "cell_type": "code",
   "execution_count": 139,
   "id": "6883c6d6-efe2-46aa-a7a8-0db859afa548",
   "metadata": {},
   "outputs": [
    {
     "name": "stdout",
     "output_type": "stream",
     "text": [
      "   VaderSentimentScore           Type\n",
      "0               0.2263      Emergency\n",
      "1               0.5574  Non-Emergency\n",
      "2              -0.6823      Emergency\n",
      "3               0.1531      Emergency\n",
      "4               0.2263      Emergency\n"
     ]
    }
   ],
   "source": [
    "# Defining threshold\n",
    "threshold = 0.25\n",
    "# Apply thresholds to classify the calls\n",
    "df['Type'] = df['VaderSentimentScore'].apply(lambda x: 'Emergency' if x < threshold else 'Non-Emergency')\n",
    "print(df[['VaderSentimentScore', 'Type']].head())"
   ]
  },
  {
   "cell_type": "code",
   "execution_count": 143,
   "id": "21a90e91-692c-4413-b000-12bab269d005",
   "metadata": {},
   "outputs": [
    {
     "data": {
      "text/html": [
       "<div>\n",
       "<style scoped>\n",
       "    .dataframe tbody tr th:only-of-type {\n",
       "        vertical-align: middle;\n",
       "    }\n",
       "\n",
       "    .dataframe tbody tr th {\n",
       "        vertical-align: top;\n",
       "    }\n",
       "\n",
       "    .dataframe thead th {\n",
       "        text-align: right;\n",
       "    }\n",
       "</style>\n",
       "<table border=\"1\" class=\"dataframe\">\n",
       "  <thead>\n",
       "    <tr style=\"text-align: right;\">\n",
       "      <th></th>\n",
       "      <th>Transcription</th>\n",
       "      <th>Tokens</th>\n",
       "      <th>VaderSentimentScore</th>\n",
       "      <th>Vader Sentiment Score</th>\n",
       "      <th>TextBlob Polarity</th>\n",
       "      <th>TextBlob Subjectivity</th>\n",
       "      <th>TextBlobPolarity</th>\n",
       "      <th>TextBlobSubjectivity</th>\n",
       "      <th>Type</th>\n",
       "    </tr>\n",
       "  </thead>\n",
       "  <tbody>\n",
       "    <tr>\n",
       "      <th>0</th>\n",
       "      <td>bulkovia bank two west international speedway ...</td>\n",
       "      <td>[bulkovia, bank, two, west, international, spe...</td>\n",
       "      <td>0.2263</td>\n",
       "      <td>0.2263</td>\n",
       "      <td>0.25</td>\n",
       "      <td>0.250000</td>\n",
       "      <td>0.25</td>\n",
       "      <td>0.250000</td>\n",
       "      <td>Emergency</td>\n",
       "    </tr>\n",
       "    <tr>\n",
       "      <th>1</th>\n",
       "      <td>yes nelson building there man adult came board...</td>\n",
       "      <td>[yes, nelson, building, there, man, adult, cam...</td>\n",
       "      <td>0.5574</td>\n",
       "      <td>0.5574</td>\n",
       "      <td>0.30</td>\n",
       "      <td>0.400000</td>\n",
       "      <td>0.30</td>\n",
       "      <td>0.400000</td>\n",
       "      <td>Non-Emergency</td>\n",
       "    </tr>\n",
       "    <tr>\n",
       "      <th>2</th>\n",
       "      <td>listen really bad okay got attacked people</td>\n",
       "      <td>[listen, really, bad, okay, got, attacked, peo...</td>\n",
       "      <td>-0.6823</td>\n",
       "      <td>-0.6823</td>\n",
       "      <td>-0.10</td>\n",
       "      <td>0.583333</td>\n",
       "      <td>-0.10</td>\n",
       "      <td>0.583333</td>\n",
       "      <td>Emergency</td>\n",
       "    </tr>\n",
       "    <tr>\n",
       "      <th>3</th>\n",
       "      <td>im walking field dont know youre walking field...</td>\n",
       "      <td>[im, walking, field, dont, know, youre, walkin...</td>\n",
       "      <td>0.1531</td>\n",
       "      <td>0.1531</td>\n",
       "      <td>0.50</td>\n",
       "      <td>0.500000</td>\n",
       "      <td>0.50</td>\n",
       "      <td>0.500000</td>\n",
       "      <td>Emergency</td>\n",
       "    </tr>\n",
       "    <tr>\n",
       "      <th>4</th>\n",
       "      <td>somebody sent police officer okay whats addres...</td>\n",
       "      <td>[somebody, sent, police, officer, okay, whats,...</td>\n",
       "      <td>0.2263</td>\n",
       "      <td>0.2263</td>\n",
       "      <td>0.50</td>\n",
       "      <td>0.500000</td>\n",
       "      <td>0.50</td>\n",
       "      <td>0.500000</td>\n",
       "      <td>Emergency</td>\n",
       "    </tr>\n",
       "  </tbody>\n",
       "</table>\n",
       "</div>"
      ],
      "text/plain": [
       "                                       Transcription  \\\n",
       "0  bulkovia bank two west international speedway ...   \n",
       "1  yes nelson building there man adult came board...   \n",
       "2         listen really bad okay got attacked people   \n",
       "3  im walking field dont know youre walking field...   \n",
       "4  somebody sent police officer okay whats addres...   \n",
       "\n",
       "                                              Tokens  VaderSentimentScore  \\\n",
       "0  [bulkovia, bank, two, west, international, spe...               0.2263   \n",
       "1  [yes, nelson, building, there, man, adult, cam...               0.5574   \n",
       "2  [listen, really, bad, okay, got, attacked, peo...              -0.6823   \n",
       "3  [im, walking, field, dont, know, youre, walkin...               0.1531   \n",
       "4  [somebody, sent, police, officer, okay, whats,...               0.2263   \n",
       "\n",
       "   Vader Sentiment Score  TextBlob Polarity  TextBlob Subjectivity  \\\n",
       "0                 0.2263               0.25               0.250000   \n",
       "1                 0.5574               0.30               0.400000   \n",
       "2                -0.6823              -0.10               0.583333   \n",
       "3                 0.1531               0.50               0.500000   \n",
       "4                 0.2263               0.50               0.500000   \n",
       "\n",
       "   TextBlobPolarity  TextBlobSubjectivity           Type  \n",
       "0              0.25              0.250000      Emergency  \n",
       "1              0.30              0.400000  Non-Emergency  \n",
       "2             -0.10              0.583333      Emergency  \n",
       "3              0.50              0.500000      Emergency  \n",
       "4              0.50              0.500000      Emergency  "
      ]
     },
     "execution_count": 143,
     "metadata": {},
     "output_type": "execute_result"
    }
   ],
   "source": [
    "df.head()"
   ]
  },
  {
   "cell_type": "markdown",
   "id": "2ff8bc57-1466-4170-8c38-e7860ade2ea2",
   "metadata": {},
   "source": [
    "Label Encoding"
   ]
  },
  {
   "cell_type": "code",
   "execution_count": 144,
   "id": "281b6764-22b0-49fd-86f7-9322283adeff",
   "metadata": {},
   "outputs": [],
   "source": [
    "from sklearn.preprocessing import LabelEncoder\n",
    "label_encoder = LabelEncoder()\n",
    "df['Type'] = label_encoder.fit_transform(df['Type'])  # Converts 'Emergency' to 1, 'Non-Emergency' to 0"
   ]
  },
  {
   "cell_type": "markdown",
   "id": "d8c408f5-4f4a-441f-82d2-ac01a0e1cab9",
   "metadata": {},
   "source": [
    "### 7. Classification models"
   ]
  },
  {
   "cell_type": "markdown",
   "id": "7c364a00-4c06-44bd-8963-26d1c96a5267",
   "metadata": {},
   "source": [
    "1. Logistic Regression"
   ]
  },
  {
   "cell_type": "code",
   "execution_count": 146,
   "id": "2ab4f544-4936-47d5-b671-b57fd341867f",
   "metadata": {},
   "outputs": [],
   "source": [
    "# Initialize TF-IDF Vectorizer\n",
    "tfVector = TfidfVectorizer()\n",
    "# Fit and transform the text data\n",
    "X = tfVector.fit_transform(df['Transcription'])"
   ]
  },
  {
   "cell_type": "code",
   "execution_count": 153,
   "id": "0cc1f239-df58-477a-ac00-47e364e4ef7d",
   "metadata": {},
   "outputs": [],
   "source": [
    "# Define features and target\n",
    "X = tfVector.transform(df['Transcription'])\n",
    "y = df['Type']\n",
    "# Split the dataset\n",
    "X_train, X_test, y_train, y_test = train_test_split(X, y, test_size=0.2, random_state=42)"
   ]
  },
  {
   "cell_type": "code",
   "execution_count": 156,
   "id": "2f22961f-78a5-4d8d-a4f8-9cb98092cff7",
   "metadata": {},
   "outputs": [
    {
     "data": {
      "text/html": [
       "<style>#sk-container-id-8 {color: black;}#sk-container-id-8 pre{padding: 0;}#sk-container-id-8 div.sk-toggleable {background-color: white;}#sk-container-id-8 label.sk-toggleable__label {cursor: pointer;display: block;width: 100%;margin-bottom: 0;padding: 0.3em;box-sizing: border-box;text-align: center;}#sk-container-id-8 label.sk-toggleable__label-arrow:before {content: \"▸\";float: left;margin-right: 0.25em;color: #696969;}#sk-container-id-8 label.sk-toggleable__label-arrow:hover:before {color: black;}#sk-container-id-8 div.sk-estimator:hover label.sk-toggleable__label-arrow:before {color: black;}#sk-container-id-8 div.sk-toggleable__content {max-height: 0;max-width: 0;overflow: hidden;text-align: left;background-color: #f0f8ff;}#sk-container-id-8 div.sk-toggleable__content pre {margin: 0.2em;color: black;border-radius: 0.25em;background-color: #f0f8ff;}#sk-container-id-8 input.sk-toggleable__control:checked~div.sk-toggleable__content {max-height: 200px;max-width: 100%;overflow: auto;}#sk-container-id-8 input.sk-toggleable__control:checked~label.sk-toggleable__label-arrow:before {content: \"▾\";}#sk-container-id-8 div.sk-estimator input.sk-toggleable__control:checked~label.sk-toggleable__label {background-color: #d4ebff;}#sk-container-id-8 div.sk-label input.sk-toggleable__control:checked~label.sk-toggleable__label {background-color: #d4ebff;}#sk-container-id-8 input.sk-hidden--visually {border: 0;clip: rect(1px 1px 1px 1px);clip: rect(1px, 1px, 1px, 1px);height: 1px;margin: -1px;overflow: hidden;padding: 0;position: absolute;width: 1px;}#sk-container-id-8 div.sk-estimator {font-family: monospace;background-color: #f0f8ff;border: 1px dotted black;border-radius: 0.25em;box-sizing: border-box;margin-bottom: 0.5em;}#sk-container-id-8 div.sk-estimator:hover {background-color: #d4ebff;}#sk-container-id-8 div.sk-parallel-item::after {content: \"\";width: 100%;border-bottom: 1px solid gray;flex-grow: 1;}#sk-container-id-8 div.sk-label:hover label.sk-toggleable__label {background-color: #d4ebff;}#sk-container-id-8 div.sk-serial::before {content: \"\";position: absolute;border-left: 1px solid gray;box-sizing: border-box;top: 0;bottom: 0;left: 50%;z-index: 0;}#sk-container-id-8 div.sk-serial {display: flex;flex-direction: column;align-items: center;background-color: white;padding-right: 0.2em;padding-left: 0.2em;position: relative;}#sk-container-id-8 div.sk-item {position: relative;z-index: 1;}#sk-container-id-8 div.sk-parallel {display: flex;align-items: stretch;justify-content: center;background-color: white;position: relative;}#sk-container-id-8 div.sk-item::before, #sk-container-id-8 div.sk-parallel-item::before {content: \"\";position: absolute;border-left: 1px solid gray;box-sizing: border-box;top: 0;bottom: 0;left: 50%;z-index: -1;}#sk-container-id-8 div.sk-parallel-item {display: flex;flex-direction: column;z-index: 1;position: relative;background-color: white;}#sk-container-id-8 div.sk-parallel-item:first-child::after {align-self: flex-end;width: 50%;}#sk-container-id-8 div.sk-parallel-item:last-child::after {align-self: flex-start;width: 50%;}#sk-container-id-8 div.sk-parallel-item:only-child::after {width: 0;}#sk-container-id-8 div.sk-dashed-wrapped {border: 1px dashed gray;margin: 0 0.4em 0.5em 0.4em;box-sizing: border-box;padding-bottom: 0.4em;background-color: white;}#sk-container-id-8 div.sk-label label {font-family: monospace;font-weight: bold;display: inline-block;line-height: 1.2em;}#sk-container-id-8 div.sk-label-container {text-align: center;}#sk-container-id-8 div.sk-container {/* jupyter's `normalize.less` sets `[hidden] { display: none; }` but bootstrap.min.css set `[hidden] { display: none !important; }` so we also need the `!important` here to be able to override the default hidden behavior on the sphinx rendered scikit-learn.org. See: https://github.com/scikit-learn/scikit-learn/issues/21755 */display: inline-block !important;position: relative;}#sk-container-id-8 div.sk-text-repr-fallback {display: none;}</style><div id=\"sk-container-id-8\" class=\"sk-top-container\"><div class=\"sk-text-repr-fallback\"><pre>LogisticRegression()</pre><b>In a Jupyter environment, please rerun this cell to show the HTML representation or trust the notebook. <br />On GitHub, the HTML representation is unable to render, please try loading this page with nbviewer.org.</b></div><div class=\"sk-container\" hidden><div class=\"sk-item\"><div class=\"sk-estimator sk-toggleable\"><input class=\"sk-toggleable__control sk-hidden--visually\" id=\"sk-estimator-id-8\" type=\"checkbox\" checked><label for=\"sk-estimator-id-8\" class=\"sk-toggleable__label sk-toggleable__label-arrow\">LogisticRegression</label><div class=\"sk-toggleable__content\"><pre>LogisticRegression()</pre></div></div></div></div></div>"
      ],
      "text/plain": [
       "LogisticRegression()"
      ]
     },
     "execution_count": 156,
     "metadata": {},
     "output_type": "execute_result"
    }
   ],
   "source": [
    "logisticM = LogisticRegression()\n",
    "# Train the model\n",
    "logisticM.fit(X_train, y_train)"
   ]
  },
  {
   "cell_type": "code",
   "execution_count": 173,
   "id": "70e11847-3820-4c0b-a3be-5d1c553fb890",
   "metadata": {},
   "outputs": [
    {
     "name": "stdout",
     "output_type": "stream",
     "text": [
      "Confusion Matrix:\n",
      "[[77  0]\n",
      " [12 19]]\n",
      "\n",
      "Classification Report:\n",
      "              precision    recall  f1-score   support\n",
      "\n",
      "           0       0.87      1.00      0.93        77\n",
      "           1       1.00      0.61      0.76        31\n",
      "\n",
      "    accuracy                           0.89       108\n",
      "   macro avg       0.93      0.81      0.84       108\n",
      "weighted avg       0.90      0.89      0.88       108\n",
      "\n",
      "Accuracy Score:\n",
      "0.8888888888888888\n"
     ]
    }
   ],
   "source": [
    "# Make predictions\n",
    "y_pred = logisticModel.predict(X_test)\n",
    "# Compute and display metrics\n",
    "print(\"Confusion Matrix:\")\n",
    "print(confusion_matrix(y_test, y_pred))\n",
    "print(\"\\nClassification Report:\")\n",
    "print(classification_report(y_test, y_pred))\n",
    "print(\"Accuracy Score:\")\n",
    "print(accuracy_score(y_test, y_pred))"
   ]
  },
  {
   "cell_type": "markdown",
   "id": "21316295-1b0c-42a7-bf12-acd9d9077a8c",
   "metadata": {},
   "source": [
    "#### Cross Validation"
   ]
  },
  {
   "cell_type": "code",
   "execution_count": 163,
   "id": "c65d76fb-2b1c-4211-b7a0-968cd47c8ebf",
   "metadata": {},
   "outputs": [
    {
     "name": "stdout",
     "output_type": "stream",
     "text": [
      "Cross-validation scores for Logistic Regression: [0.88888889 0.84259259 0.89814815 0.89814815 0.86915888]\n",
      "Mean Accuracy (Logistic Regression): 0.8793873312564902\n"
     ]
    }
   ],
   "source": [
    "# Number of folds\n",
    "nfolds = 5\n",
    "# Initialize\n",
    "kf = KFold(n_splits=nfolds, shuffle=True, random_state=42)\n",
    "# Accuracy for classification tasks\n",
    "cvscores = cross_val_score(logisticM, X, y, cv=kf, scoring='accuracy')\n",
    "print(\"Cross-validation scores for Logistic Regression:\", cvscores)\n",
    "print(\"Mean Accuracy (Logistic Regression):\", cvscores.mean())"
   ]
  },
  {
   "cell_type": "markdown",
   "id": "c1ea2b95-ef9d-467d-accf-795c85d78643",
   "metadata": {},
   "source": [
    "2. Decision Tree"
   ]
  },
  {
   "cell_type": "code",
   "execution_count": 166,
   "id": "eca0a81d-27ec-4364-ae81-d209533b6cfe",
   "metadata": {},
   "outputs": [
    {
     "data": {
      "text/html": [
       "<style>#sk-container-id-10 {color: black;}#sk-container-id-10 pre{padding: 0;}#sk-container-id-10 div.sk-toggleable {background-color: white;}#sk-container-id-10 label.sk-toggleable__label {cursor: pointer;display: block;width: 100%;margin-bottom: 0;padding: 0.3em;box-sizing: border-box;text-align: center;}#sk-container-id-10 label.sk-toggleable__label-arrow:before {content: \"▸\";float: left;margin-right: 0.25em;color: #696969;}#sk-container-id-10 label.sk-toggleable__label-arrow:hover:before {color: black;}#sk-container-id-10 div.sk-estimator:hover label.sk-toggleable__label-arrow:before {color: black;}#sk-container-id-10 div.sk-toggleable__content {max-height: 0;max-width: 0;overflow: hidden;text-align: left;background-color: #f0f8ff;}#sk-container-id-10 div.sk-toggleable__content pre {margin: 0.2em;color: black;border-radius: 0.25em;background-color: #f0f8ff;}#sk-container-id-10 input.sk-toggleable__control:checked~div.sk-toggleable__content {max-height: 200px;max-width: 100%;overflow: auto;}#sk-container-id-10 input.sk-toggleable__control:checked~label.sk-toggleable__label-arrow:before {content: \"▾\";}#sk-container-id-10 div.sk-estimator input.sk-toggleable__control:checked~label.sk-toggleable__label {background-color: #d4ebff;}#sk-container-id-10 div.sk-label input.sk-toggleable__control:checked~label.sk-toggleable__label {background-color: #d4ebff;}#sk-container-id-10 input.sk-hidden--visually {border: 0;clip: rect(1px 1px 1px 1px);clip: rect(1px, 1px, 1px, 1px);height: 1px;margin: -1px;overflow: hidden;padding: 0;position: absolute;width: 1px;}#sk-container-id-10 div.sk-estimator {font-family: monospace;background-color: #f0f8ff;border: 1px dotted black;border-radius: 0.25em;box-sizing: border-box;margin-bottom: 0.5em;}#sk-container-id-10 div.sk-estimator:hover {background-color: #d4ebff;}#sk-container-id-10 div.sk-parallel-item::after {content: \"\";width: 100%;border-bottom: 1px solid gray;flex-grow: 1;}#sk-container-id-10 div.sk-label:hover label.sk-toggleable__label {background-color: #d4ebff;}#sk-container-id-10 div.sk-serial::before {content: \"\";position: absolute;border-left: 1px solid gray;box-sizing: border-box;top: 0;bottom: 0;left: 50%;z-index: 0;}#sk-container-id-10 div.sk-serial {display: flex;flex-direction: column;align-items: center;background-color: white;padding-right: 0.2em;padding-left: 0.2em;position: relative;}#sk-container-id-10 div.sk-item {position: relative;z-index: 1;}#sk-container-id-10 div.sk-parallel {display: flex;align-items: stretch;justify-content: center;background-color: white;position: relative;}#sk-container-id-10 div.sk-item::before, #sk-container-id-10 div.sk-parallel-item::before {content: \"\";position: absolute;border-left: 1px solid gray;box-sizing: border-box;top: 0;bottom: 0;left: 50%;z-index: -1;}#sk-container-id-10 div.sk-parallel-item {display: flex;flex-direction: column;z-index: 1;position: relative;background-color: white;}#sk-container-id-10 div.sk-parallel-item:first-child::after {align-self: flex-end;width: 50%;}#sk-container-id-10 div.sk-parallel-item:last-child::after {align-self: flex-start;width: 50%;}#sk-container-id-10 div.sk-parallel-item:only-child::after {width: 0;}#sk-container-id-10 div.sk-dashed-wrapped {border: 1px dashed gray;margin: 0 0.4em 0.5em 0.4em;box-sizing: border-box;padding-bottom: 0.4em;background-color: white;}#sk-container-id-10 div.sk-label label {font-family: monospace;font-weight: bold;display: inline-block;line-height: 1.2em;}#sk-container-id-10 div.sk-label-container {text-align: center;}#sk-container-id-10 div.sk-container {/* jupyter's `normalize.less` sets `[hidden] { display: none; }` but bootstrap.min.css set `[hidden] { display: none !important; }` so we also need the `!important` here to be able to override the default hidden behavior on the sphinx rendered scikit-learn.org. See: https://github.com/scikit-learn/scikit-learn/issues/21755 */display: inline-block !important;position: relative;}#sk-container-id-10 div.sk-text-repr-fallback {display: none;}</style><div id=\"sk-container-id-10\" class=\"sk-top-container\"><div class=\"sk-text-repr-fallback\"><pre>DecisionTreeClassifier()</pre><b>In a Jupyter environment, please rerun this cell to show the HTML representation or trust the notebook. <br />On GitHub, the HTML representation is unable to render, please try loading this page with nbviewer.org.</b></div><div class=\"sk-container\" hidden><div class=\"sk-item\"><div class=\"sk-estimator sk-toggleable\"><input class=\"sk-toggleable__control sk-hidden--visually\" id=\"sk-estimator-id-10\" type=\"checkbox\" checked><label for=\"sk-estimator-id-10\" class=\"sk-toggleable__label sk-toggleable__label-arrow\">DecisionTreeClassifier</label><div class=\"sk-toggleable__content\"><pre>DecisionTreeClassifier()</pre></div></div></div></div></div>"
      ],
      "text/plain": [
       "DecisionTreeClassifier()"
      ]
     },
     "execution_count": 166,
     "metadata": {},
     "output_type": "execute_result"
    }
   ],
   "source": [
    "# Initialize\n",
    "decisionTreeM = DecisionTreeClassifier()\n",
    "decisionTreeM.fit(X_train, y_train)"
   ]
  },
  {
   "cell_type": "code",
   "execution_count": 172,
   "id": "29bf052e-3b70-4d70-9f9e-93070b330762",
   "metadata": {},
   "outputs": [
    {
     "name": "stdout",
     "output_type": "stream",
     "text": [
      "Confusion Matrix:\n",
      "[[72  5]\n",
      " [ 4 27]]\n",
      "\n",
      "Classification Report:\n",
      "              precision    recall  f1-score   support\n",
      "\n",
      "           0       0.95      0.94      0.94        77\n",
      "           1       0.84      0.87      0.86        31\n",
      "\n",
      "    accuracy                           0.92       108\n",
      "   macro avg       0.90      0.90      0.90       108\n",
      "weighted avg       0.92      0.92      0.92       108\n",
      "\n",
      "Accuracy Score:\n",
      "0.9166666666666666\n"
     ]
    }
   ],
   "source": [
    "# Make predictions\n",
    "y_pred = decisionTreeM.predict(X_test)\n",
    "# Compute and display metrics\n",
    "print(\"Confusion Matrix:\")\n",
    "print(confusion_matrix(y_test, y_pred))\n",
    "print(\"\\nClassification Report:\")\n",
    "print(classification_report(y_test, y_pred))\n",
    "print(\"Accuracy Score:\")\n",
    "print(accuracy_score(y_test, y_pred))"
   ]
  },
  {
   "cell_type": "markdown",
   "id": "f0d1a5dd-2531-42bd-a026-84124a0f12fc",
   "metadata": {},
   "source": [
    "Cross Validation"
   ]
  },
  {
   "cell_type": "code",
   "execution_count": 175,
   "id": "0ca9dcf9-8192-40f8-8d13-a2bb35cc5186",
   "metadata": {},
   "outputs": [
    {
     "name": "stdout",
     "output_type": "stream",
     "text": [
      "Cross-validation scores for Decision Tree: [0.91666667 0.94444444 0.96296296 0.87962963 0.92523364]\n",
      "Mean Accuracy (Decision Tree): 0.9257874697127033\n"
     ]
    }
   ],
   "source": [
    "# Number of folds\n",
    "nfolds = 5\n",
    "# Initialize\n",
    "kf = KFold(n_splits=nfolds, shuffle=True, random_state=42)\n",
    "cvscores = cross_val_score(decisionTreeM, X, y, cv=kf, scoring='accuracy')\n",
    "print(\"Cross-validation scores for Decision Tree:\", cvscores)\n",
    "print(\"Mean Accuracy (Decision Tree):\", cvscores.mean())"
   ]
  },
  {
   "cell_type": "markdown",
   "id": "d359a455-f08c-441e-8013-3542cba52a93",
   "metadata": {},
   "source": [
    "3. Random Forest"
   ]
  },
  {
   "cell_type": "code",
   "execution_count": 176,
   "id": "8f565ed6-9296-447f-9f51-cc34ead0cc1d",
   "metadata": {},
   "outputs": [
    {
     "data": {
      "text/html": [
       "<style>#sk-container-id-11 {color: black;}#sk-container-id-11 pre{padding: 0;}#sk-container-id-11 div.sk-toggleable {background-color: white;}#sk-container-id-11 label.sk-toggleable__label {cursor: pointer;display: block;width: 100%;margin-bottom: 0;padding: 0.3em;box-sizing: border-box;text-align: center;}#sk-container-id-11 label.sk-toggleable__label-arrow:before {content: \"▸\";float: left;margin-right: 0.25em;color: #696969;}#sk-container-id-11 label.sk-toggleable__label-arrow:hover:before {color: black;}#sk-container-id-11 div.sk-estimator:hover label.sk-toggleable__label-arrow:before {color: black;}#sk-container-id-11 div.sk-toggleable__content {max-height: 0;max-width: 0;overflow: hidden;text-align: left;background-color: #f0f8ff;}#sk-container-id-11 div.sk-toggleable__content pre {margin: 0.2em;color: black;border-radius: 0.25em;background-color: #f0f8ff;}#sk-container-id-11 input.sk-toggleable__control:checked~div.sk-toggleable__content {max-height: 200px;max-width: 100%;overflow: auto;}#sk-container-id-11 input.sk-toggleable__control:checked~label.sk-toggleable__label-arrow:before {content: \"▾\";}#sk-container-id-11 div.sk-estimator input.sk-toggleable__control:checked~label.sk-toggleable__label {background-color: #d4ebff;}#sk-container-id-11 div.sk-label input.sk-toggleable__control:checked~label.sk-toggleable__label {background-color: #d4ebff;}#sk-container-id-11 input.sk-hidden--visually {border: 0;clip: rect(1px 1px 1px 1px);clip: rect(1px, 1px, 1px, 1px);height: 1px;margin: -1px;overflow: hidden;padding: 0;position: absolute;width: 1px;}#sk-container-id-11 div.sk-estimator {font-family: monospace;background-color: #f0f8ff;border: 1px dotted black;border-radius: 0.25em;box-sizing: border-box;margin-bottom: 0.5em;}#sk-container-id-11 div.sk-estimator:hover {background-color: #d4ebff;}#sk-container-id-11 div.sk-parallel-item::after {content: \"\";width: 100%;border-bottom: 1px solid gray;flex-grow: 1;}#sk-container-id-11 div.sk-label:hover label.sk-toggleable__label {background-color: #d4ebff;}#sk-container-id-11 div.sk-serial::before {content: \"\";position: absolute;border-left: 1px solid gray;box-sizing: border-box;top: 0;bottom: 0;left: 50%;z-index: 0;}#sk-container-id-11 div.sk-serial {display: flex;flex-direction: column;align-items: center;background-color: white;padding-right: 0.2em;padding-left: 0.2em;position: relative;}#sk-container-id-11 div.sk-item {position: relative;z-index: 1;}#sk-container-id-11 div.sk-parallel {display: flex;align-items: stretch;justify-content: center;background-color: white;position: relative;}#sk-container-id-11 div.sk-item::before, #sk-container-id-11 div.sk-parallel-item::before {content: \"\";position: absolute;border-left: 1px solid gray;box-sizing: border-box;top: 0;bottom: 0;left: 50%;z-index: -1;}#sk-container-id-11 div.sk-parallel-item {display: flex;flex-direction: column;z-index: 1;position: relative;background-color: white;}#sk-container-id-11 div.sk-parallel-item:first-child::after {align-self: flex-end;width: 50%;}#sk-container-id-11 div.sk-parallel-item:last-child::after {align-self: flex-start;width: 50%;}#sk-container-id-11 div.sk-parallel-item:only-child::after {width: 0;}#sk-container-id-11 div.sk-dashed-wrapped {border: 1px dashed gray;margin: 0 0.4em 0.5em 0.4em;box-sizing: border-box;padding-bottom: 0.4em;background-color: white;}#sk-container-id-11 div.sk-label label {font-family: monospace;font-weight: bold;display: inline-block;line-height: 1.2em;}#sk-container-id-11 div.sk-label-container {text-align: center;}#sk-container-id-11 div.sk-container {/* jupyter's `normalize.less` sets `[hidden] { display: none; }` but bootstrap.min.css set `[hidden] { display: none !important; }` so we also need the `!important` here to be able to override the default hidden behavior on the sphinx rendered scikit-learn.org. See: https://github.com/scikit-learn/scikit-learn/issues/21755 */display: inline-block !important;position: relative;}#sk-container-id-11 div.sk-text-repr-fallback {display: none;}</style><div id=\"sk-container-id-11\" class=\"sk-top-container\"><div class=\"sk-text-repr-fallback\"><pre>RandomForestClassifier()</pre><b>In a Jupyter environment, please rerun this cell to show the HTML representation or trust the notebook. <br />On GitHub, the HTML representation is unable to render, please try loading this page with nbviewer.org.</b></div><div class=\"sk-container\" hidden><div class=\"sk-item\"><div class=\"sk-estimator sk-toggleable\"><input class=\"sk-toggleable__control sk-hidden--visually\" id=\"sk-estimator-id-11\" type=\"checkbox\" checked><label for=\"sk-estimator-id-11\" class=\"sk-toggleable__label sk-toggleable__label-arrow\">RandomForestClassifier</label><div class=\"sk-toggleable__content\"><pre>RandomForestClassifier()</pre></div></div></div></div></div>"
      ],
      "text/plain": [
       "RandomForestClassifier()"
      ]
     },
     "execution_count": 176,
     "metadata": {},
     "output_type": "execute_result"
    }
   ],
   "source": [
    "# Initialize Random Forest model\n",
    "randomForestM = RandomForestClassifier()\n",
    "# Train the model\n",
    "randomForestM.fit(X_train, y_train)"
   ]
  },
  {
   "cell_type": "code",
   "execution_count": 178,
   "id": "8b457d24-b26a-4180-a350-f1233bbc14b8",
   "metadata": {},
   "outputs": [
    {
     "name": "stdout",
     "output_type": "stream",
     "text": [
      "Confusion Matrix:\n",
      "[[75  2]\n",
      " [ 9 22]]\n",
      "\n",
      "Classification Report:\n",
      "              precision    recall  f1-score   support\n",
      "\n",
      "           0       0.89      0.97      0.93        77\n",
      "           1       0.92      0.71      0.80        31\n",
      "\n",
      "    accuracy                           0.90       108\n",
      "   macro avg       0.90      0.84      0.87       108\n",
      "weighted avg       0.90      0.90      0.89       108\n",
      "\n",
      "Accuracy Score:\n",
      "0.8981481481481481\n"
     ]
    }
   ],
   "source": [
    "y_pred = randomForestM.predict(X_test)\n",
    "# Compute and display metrics\n",
    "print(\"Confusion Matrix:\")\n",
    "print(confusion_matrix(y_test, y_pred))\n",
    "print(\"\\nClassification Report:\")\n",
    "print(classification_report(y_test, y_pred))\n",
    "print(\"Accuracy Score:\")\n",
    "print(accuracy_score(y_test, y_pred))"
   ]
  },
  {
   "cell_type": "markdown",
   "id": "7eb457b8-dd41-4ac8-b8b1-02fdf7e76358",
   "metadata": {},
   "source": [
    "Cross Validation"
   ]
  },
  {
   "cell_type": "code",
   "execution_count": 179,
   "id": "d3784593-303f-4465-9db8-071152ec01d9",
   "metadata": {},
   "outputs": [
    {
     "name": "stdout",
     "output_type": "stream",
     "text": [
      "Cross-validation scores for Random Forest: [0.89814815 0.90740741 0.97222222 0.90740741 0.90654206]\n",
      "Mean Accuracy (Random Forest): 0.9183454482519903\n"
     ]
    }
   ],
   "source": [
    "# Number of folds\n",
    "nfolds = 5\n",
    "# Initialize\n",
    "kf = KFold(n_splits=nfolds, shuffle=True, random_state=42)\n",
    "cvscores = cross_val_score(randomForestM, X, y, cv=kf, scoring='accuracy')\n",
    "print(\"Cross-validation scores for Random Forest:\", cvscores)\n",
    "print(\"Mean Accuracy (Random Forest):\", cvscores.mean())"
   ]
  },
  {
   "cell_type": "markdown",
   "id": "0e41f323-4a5d-4650-b8b8-e94c2f325215",
   "metadata": {},
   "source": [
    "4. Support Vector Machine (SVM)\n"
   ]
  },
  {
   "cell_type": "code",
   "execution_count": 184,
   "id": "57a19bb1-7f8a-4a30-8889-01eca8312748",
   "metadata": {},
   "outputs": [],
   "source": [
    "polyM = SVC(kernel='poly', C=1)\n",
    "linearM = SVC(kernel='linear', C=1)\n",
    "SigmoidM = SVC(kernel='sigmoid', C=1)"
   ]
  },
  {
   "cell_type": "code",
   "execution_count": 181,
   "id": "57a030f6-6460-4afc-a6eb-53d47ac9a0dc",
   "metadata": {},
   "outputs": [
    {
     "data": {
      "text/html": [
       "<style>#sk-container-id-12 {color: black;}#sk-container-id-12 pre{padding: 0;}#sk-container-id-12 div.sk-toggleable {background-color: white;}#sk-container-id-12 label.sk-toggleable__label {cursor: pointer;display: block;width: 100%;margin-bottom: 0;padding: 0.3em;box-sizing: border-box;text-align: center;}#sk-container-id-12 label.sk-toggleable__label-arrow:before {content: \"▸\";float: left;margin-right: 0.25em;color: #696969;}#sk-container-id-12 label.sk-toggleable__label-arrow:hover:before {color: black;}#sk-container-id-12 div.sk-estimator:hover label.sk-toggleable__label-arrow:before {color: black;}#sk-container-id-12 div.sk-toggleable__content {max-height: 0;max-width: 0;overflow: hidden;text-align: left;background-color: #f0f8ff;}#sk-container-id-12 div.sk-toggleable__content pre {margin: 0.2em;color: black;border-radius: 0.25em;background-color: #f0f8ff;}#sk-container-id-12 input.sk-toggleable__control:checked~div.sk-toggleable__content {max-height: 200px;max-width: 100%;overflow: auto;}#sk-container-id-12 input.sk-toggleable__control:checked~label.sk-toggleable__label-arrow:before {content: \"▾\";}#sk-container-id-12 div.sk-estimator input.sk-toggleable__control:checked~label.sk-toggleable__label {background-color: #d4ebff;}#sk-container-id-12 div.sk-label input.sk-toggleable__control:checked~label.sk-toggleable__label {background-color: #d4ebff;}#sk-container-id-12 input.sk-hidden--visually {border: 0;clip: rect(1px 1px 1px 1px);clip: rect(1px, 1px, 1px, 1px);height: 1px;margin: -1px;overflow: hidden;padding: 0;position: absolute;width: 1px;}#sk-container-id-12 div.sk-estimator {font-family: monospace;background-color: #f0f8ff;border: 1px dotted black;border-radius: 0.25em;box-sizing: border-box;margin-bottom: 0.5em;}#sk-container-id-12 div.sk-estimator:hover {background-color: #d4ebff;}#sk-container-id-12 div.sk-parallel-item::after {content: \"\";width: 100%;border-bottom: 1px solid gray;flex-grow: 1;}#sk-container-id-12 div.sk-label:hover label.sk-toggleable__label {background-color: #d4ebff;}#sk-container-id-12 div.sk-serial::before {content: \"\";position: absolute;border-left: 1px solid gray;box-sizing: border-box;top: 0;bottom: 0;left: 50%;z-index: 0;}#sk-container-id-12 div.sk-serial {display: flex;flex-direction: column;align-items: center;background-color: white;padding-right: 0.2em;padding-left: 0.2em;position: relative;}#sk-container-id-12 div.sk-item {position: relative;z-index: 1;}#sk-container-id-12 div.sk-parallel {display: flex;align-items: stretch;justify-content: center;background-color: white;position: relative;}#sk-container-id-12 div.sk-item::before, #sk-container-id-12 div.sk-parallel-item::before {content: \"\";position: absolute;border-left: 1px solid gray;box-sizing: border-box;top: 0;bottom: 0;left: 50%;z-index: -1;}#sk-container-id-12 div.sk-parallel-item {display: flex;flex-direction: column;z-index: 1;position: relative;background-color: white;}#sk-container-id-12 div.sk-parallel-item:first-child::after {align-self: flex-end;width: 50%;}#sk-container-id-12 div.sk-parallel-item:last-child::after {align-self: flex-start;width: 50%;}#sk-container-id-12 div.sk-parallel-item:only-child::after {width: 0;}#sk-container-id-12 div.sk-dashed-wrapped {border: 1px dashed gray;margin: 0 0.4em 0.5em 0.4em;box-sizing: border-box;padding-bottom: 0.4em;background-color: white;}#sk-container-id-12 div.sk-label label {font-family: monospace;font-weight: bold;display: inline-block;line-height: 1.2em;}#sk-container-id-12 div.sk-label-container {text-align: center;}#sk-container-id-12 div.sk-container {/* jupyter's `normalize.less` sets `[hidden] { display: none; }` but bootstrap.min.css set `[hidden] { display: none !important; }` so we also need the `!important` here to be able to override the default hidden behavior on the sphinx rendered scikit-learn.org. See: https://github.com/scikit-learn/scikit-learn/issues/21755 */display: inline-block !important;position: relative;}#sk-container-id-12 div.sk-text-repr-fallback {display: none;}</style><div id=\"sk-container-id-12\" class=\"sk-top-container\"><div class=\"sk-text-repr-fallback\"><pre>SVC(C=1, kernel=&#x27;sigmoid&#x27;)</pre><b>In a Jupyter environment, please rerun this cell to show the HTML representation or trust the notebook. <br />On GitHub, the HTML representation is unable to render, please try loading this page with nbviewer.org.</b></div><div class=\"sk-container\" hidden><div class=\"sk-item\"><div class=\"sk-estimator sk-toggleable\"><input class=\"sk-toggleable__control sk-hidden--visually\" id=\"sk-estimator-id-12\" type=\"checkbox\" checked><label for=\"sk-estimator-id-12\" class=\"sk-toggleable__label sk-toggleable__label-arrow\">SVC</label><div class=\"sk-toggleable__content\"><pre>SVC(C=1, kernel=&#x27;sigmoid&#x27;)</pre></div></div></div></div></div>"
      ],
      "text/plain": [
       "SVC(C=1, kernel='sigmoid')"
      ]
     },
     "execution_count": 181,
     "metadata": {},
     "output_type": "execute_result"
    }
   ],
   "source": [
    "polyM.fit(X_train, y_train.ravel())\n",
    "linearM.fit(X_train, y_train.ravel())\n",
    "SigmoidM.fit(X_train, y_train.ravel())"
   ]
  },
  {
   "cell_type": "code",
   "execution_count": 182,
   "id": "9a6b2559-cd8c-4646-96e7-686fc8d6f54d",
   "metadata": {},
   "outputs": [],
   "source": [
    "y_pred_poly = Model_poly.predict(X_test)\n",
    "y_pred_linear = Model_linear.predict(X_test)\n",
    "y_pred_sigmoid = Model_sigmoid.predict(X_test)"
   ]
  },
  {
   "cell_type": "code",
   "execution_count": 183,
   "id": "db22d0ab-74fb-45bc-8228-eef25bf3f732",
   "metadata": {},
   "outputs": [
    {
     "name": "stdout",
     "output_type": "stream",
     "text": [
      "Polynomial Kernel SVM:\n",
      "Confusion Matrix:\n",
      "[[77  0]\n",
      " [12 19]]\n",
      "\n",
      "Classification Report:\n",
      "              precision    recall  f1-score   support\n",
      "\n",
      "           0       0.87      1.00      0.93        77\n",
      "           1       1.00      0.61      0.76        31\n",
      "\n",
      "    accuracy                           0.89       108\n",
      "   macro avg       0.93      0.81      0.84       108\n",
      "weighted avg       0.90      0.89      0.88       108\n",
      "\n",
      "Accuracy Score:\n",
      "0.8888888888888888\n",
      "\n",
      "--------------------------------------------------\n",
      "\n",
      "Linear Kernel SVM:\n",
      "Confusion Matrix:\n",
      "[[75  2]\n",
      " [ 9 22]]\n",
      "\n",
      "Classification Report:\n",
      "              precision    recall  f1-score   support\n",
      "\n",
      "           0       0.89      0.97      0.93        77\n",
      "           1       0.92      0.71      0.80        31\n",
      "\n",
      "    accuracy                           0.90       108\n",
      "   macro avg       0.90      0.84      0.87       108\n",
      "weighted avg       0.90      0.90      0.89       108\n",
      "\n",
      "Accuracy Score:\n",
      "0.8981481481481481\n",
      "\n",
      "--------------------------------------------------\n",
      "\n",
      "Sigmoid Kernel SVM:\n",
      "Confusion Matrix:\n",
      "[[76  1]\n",
      " [ 9 22]]\n",
      "\n",
      "Classification Report:\n",
      "              precision    recall  f1-score   support\n",
      "\n",
      "           0       0.89      0.99      0.94        77\n",
      "           1       0.96      0.71      0.81        31\n",
      "\n",
      "    accuracy                           0.91       108\n",
      "   macro avg       0.93      0.85      0.88       108\n",
      "weighted avg       0.91      0.91      0.90       108\n",
      "\n",
      "Accuracy Score:\n",
      "0.9074074074074074\n",
      "\n",
      "--------------------------------------------------\n",
      "\n"
     ]
    }
   ],
   "source": [
    "print(\"Polynomial Kernel SVM:\")\n",
    "print(\"Confusion Matrix:\")\n",
    "print(confusion_matrix(y_test, y_pred_poly))\n",
    "print(\"\\nClassification Report:\")\n",
    "print(classification_report(y_test, y_pred_poly))\n",
    "print(\"Accuracy Score:\")\n",
    "print(accuracy_score(y_test, y_pred_poly))\n",
    "print(\"\\n\" + \"-\"*50 + \"\\n\")\n",
    "print(\"Linear Kernel SVM:\")\n",
    "print(\"Confusion Matrix:\")\n",
    "print(confusion_matrix(y_test, y_pred_linear))\n",
    "print(\"\\nClassification Report:\")\n",
    "print(classification_report(y_test, y_pred_linear))\n",
    "print(\"Accuracy Score:\")\n",
    "print(accuracy_score(y_test, y_pred_linear))\n",
    "print(\"\\n\" + \"-\"*50 + \"\\n\")\n",
    "print(\"Sigmoid Kernel SVM:\")\n",
    "print(\"Confusion Matrix:\")\n",
    "print(confusion_matrix(y_test, y_pred_sigmoid))\n",
    "print(\"\\nClassification Report:\")\n",
    "print(classification_report(y_test, y_pred_sigmoid))\n",
    "print(\"Accuracy Score:\")\n",
    "print(accuracy_score(y_test, y_pred_sigmoid))\n",
    "print(\"\\n\" + \"-\"*50 + \"\\n\")"
   ]
  },
  {
   "cell_type": "markdown",
   "id": "35b3115f-32ca-47a8-b088-2fce0e3c5426",
   "metadata": {},
   "source": [
    "Cross Validation"
   ]
  },
  {
   "cell_type": "code",
   "execution_count": 186,
   "id": "51b5729d-9e68-48a8-a643-d4e43a07399f",
   "metadata": {},
   "outputs": [
    {
     "name": "stdout",
     "output_type": "stream",
     "text": [
      "Cross-validation scores for Polynomial Kernel: [0.95402299 0.88372093 0.93023256 0.86046512 0.84883721]\n",
      "Mean Accuracy (Polynomial Kernel): 0.895455760491847\n",
      "\n",
      "--------------------------------------------------\n",
      "\n",
      "Cross-validation scores for Linear Kernel: [0.93103448 0.91860465 0.96511628 0.95348837 0.89534884]\n",
      "Mean Accuracy (Linear Kernel): 0.9327185244587008\n",
      "\n",
      "--------------------------------------------------\n",
      "\n",
      "Cross-validation scores for Sigmoid Kernel: [0.93103448 0.90697674 0.95348837 0.94186047 0.88372093]\n",
      "Mean Accuracy (Sigmoid Kernel): 0.9234161988773055\n",
      "\n",
      "--------------------------------------------------\n",
      "\n"
     ]
    }
   ],
   "source": [
    "# Number of folds\n",
    "nfolds = 5\n",
    "# Cross-validation\n",
    "kf = KFold(n_splits=nfolds, shuffle=True, random_state=42)\n",
    "\n",
    "# Cross-validation for Polynomial Kernel\n",
    "cvscoresPoly = cross_val_score(Model_poly, X_train, y_train.ravel(), cv=kf, scoring='accuracy')\n",
    "print(\"Cross-validation scores for Polynomial Kernel:\", cvscoresPoly)\n",
    "print(\"Mean Accuracy (Polynomial Kernel):\", cvscoresPoly.mean())\n",
    "print(\"\\n\" + \"-\"*50 + \"\\n\")\n",
    "\n",
    "# Cross-validation for Linear Kernel\n",
    "cvscoresLinear = cross_val_score(Model_linear, X_train, y_train.ravel(), cv=kf, scoring='accuracy')\n",
    "print(\"Cross-validation scores for Linear Kernel:\", cvscoresLinear)\n",
    "print(\"Mean Accuracy (Linear Kernel):\", cvscoresLinear.mean())\n",
    "print(\"\\n\" + \"-\"*50 + \"\\n\")\n",
    "\n",
    "# Cross-validation for Sigmoid Kernel\n",
    "cvscoresSigmoid = cross_val_score(Model_sigmoid, X_train, y_train.ravel(), cv=kf, scoring='accuracy')\n",
    "print(\"Cross-validation scores for Sigmoid Kernel:\", cvscoresSigmoid)\n",
    "print(\"Mean Accuracy (Sigmoid Kernel):\", cvscoresSigmoid.mean())\n",
    "print(\"\\n\" + \"-\"*50 + \"\\n\")"
   ]
  },
  {
   "cell_type": "markdown",
   "id": "ebe94dd9-9d2e-40cf-936b-adffc9cbf7ab",
   "metadata": {},
   "source": [
    "### 8. Compare Results"
   ]
  },
  {
   "cell_type": "markdown",
   "id": "1dc68e7e-1371-4f66-ab2a-7c7ab54ac4fe",
   "metadata": {},
   "source": [
    "to be done"
   ]
  },
  {
   "cell_type": "markdown",
   "id": "2d8286b4-791e-4efc-b35f-af8ec427258e",
   "metadata": {},
   "source": [
    "### 9. Hyperparameter Tuning"
   ]
  },
  {
   "cell_type": "code",
   "execution_count": 190,
   "id": "ea0ec16b-ec9b-4a5f-9acd-a0f83ffcb2a9",
   "metadata": {},
   "outputs": [
    {
     "name": "stdout",
     "output_type": "stream",
     "text": [
      "Best parameters for Logistic Regression: {'C': 10, 'solver': 'liblinear'}\n",
      "Best score for Logistic Regression: 0.9258754343758353\n"
     ]
    }
   ],
   "source": [
    "# Logistic Regression\n",
    "paramGridLogis = {\n",
    "    'C': [0.001, 0.01, 0.1, 1, 10],  \n",
    "    'solver': ['liblinear', 'saga']\n",
    "}\n",
    "\n",
    "logisticM = LogisticRegression(max_iter=1000)\n",
    "\n",
    "gridSearchLogis = GridSearchCV(logisticM, paramGridLogis, cv=5, scoring='accuracy')\n",
    "gridSearchLogis.fit(X_train, y_train)\n",
    "\n",
    "print(\"Best parameters for Logistic Regression:\", gridSearchLogis.best_params_)\n",
    "print(\"Best score for Logistic Regression:\", gridSearchLogis.best_score_)\n",
    "\n",
    "bestLogisticM = gridSearchLogis.best_estimator_\n",
    "logisticPredict = bestLogisticM.predict(X_test)"
   ]
  },
  {
   "cell_type": "code",
   "execution_count": 191,
   "id": "fb7c8a5a-2027-4673-9d19-d87aa2a9071d",
   "metadata": {},
   "outputs": [
    {
     "name": "stdout",
     "output_type": "stream",
     "text": [
      "Best parameters for Decision Tree: {'criterion': 'entropy', 'max_depth': 30, 'min_samples_split': 5}\n",
      "Best score for Decision Tree: 0.9258219727345629\n"
     ]
    }
   ],
   "source": [
    "# Decision Tree\n",
    "paramGridDecisionT = {\n",
    "    'criterion': ['gini', 'entropy'],\n",
    "    'max_depth': [None, 10, 20, 30],\n",
    "    'min_samples_split': [2, 5, 10]\n",
    "}\n",
    "\n",
    "decisionTreeM = DecisionTreeClassifier()\n",
    "\n",
    "gridSearchDecisionT = GridSearchCV(decisionTreeM, paramGridDecisionT, cv=5, scoring='accuracy')\n",
    "gridSearchDecisionT.fit(X_train, y_train)\n",
    "\n",
    "print(\"Best parameters for Decision Tree:\", gridSearchDecisionT.best_params_)\n",
    "print(\"Best score for Decision Tree:\", gridSearchDecisionT.best_score_)\n",
    "\n",
    "bestDecisionTreeM = gridSearchDecisionT.best_estimator_\n",
    "decisionTreePredict = bestDecisionTreeM.predict(X_test)"
   ]
  },
  {
   "cell_type": "code",
   "execution_count": 192,
   "id": "b194026b-8f08-436a-bca4-a5194a085407",
   "metadata": {},
   "outputs": [
    {
     "name": "stdout",
     "output_type": "stream",
     "text": [
      "Best parameters for Random Forest: {'max_depth': None, 'min_samples_leaf': 1, 'min_samples_split': 2, 'n_estimators': 100}\n",
      "Best score for Random Forest: 0.9351242983159583\n"
     ]
    }
   ],
   "source": [
    "# Random Forest\n",
    "paramGridRandomF = {\n",
    "    'n_estimators': [50, 100],\n",
    "    'max_depth': [None, 10],\n",
    "    'min_samples_split': [2, 5],\n",
    "    'min_samples_leaf': [1, 2],\n",
    "}\n",
    "\n",
    "randomForestM = RandomForestClassifier()\n",
    "\n",
    "gridSearchRandomF = GridSearchCV(randomForestM, paramGridRandomF, cv=5, scoring='accuracy')\n",
    "gridSearchRandomF.fit(X_train, y_train)\n",
    "\n",
    "print(\"Best parameters for Random Forest:\", gridSearchRandomF.best_params_)\n",
    "print(\"Best score for Random Forest:\", gridSearchRandomF.best_score_)\n",
    "\n",
    "bestRandomForestM = gridSearchRandomF.best_estimator_\n",
    "randomForestPredict = bestRandomForestM.predict(X_test)"
   ]
  },
  {
   "cell_type": "code",
   "execution_count": 193,
   "id": "f71ab1b4-1371-4dce-bca2-11ef6161b66a",
   "metadata": {},
   "outputs": [
    {
     "name": "stdout",
     "output_type": "stream",
     "text": [
      "Best parameters for SVM: {'C': 10, 'degree': 2, 'gamma': 'scale', 'kernel': 'linear'}\n",
      "Best score for SVM: 0.9235498529804864\n"
     ]
    }
   ],
   "source": [
    "paramGridSVM = {\n",
    "    'C': [0.1, 1, 10],\n",
    "    'kernel': ['linear', 'rbf', 'poly'],\n",
    "    'gamma': ['scale', 'auto'],\n",
    "    'degree': [2, 3, 4]\n",
    "}\n",
    "\n",
    "svmM = SVC()\n",
    "\n",
    "gridSearchSVM = GridSearchCV(svmM, param_grid=paramGridSVM, cv=5, scoring='accuracy')\n",
    "gridSearchSVM.fit(X_train, y_train)\n",
    "\n",
    "print(\"Best parameters for SVM:\", gridSearchSVM.best_params_)\n",
    "print(\"Best score for SVM:\", gridSearchSVM.best_score_)\n",
    "\n",
    "bestSVMM = gridSearchSVM.best_estimator_\n",
    "svmPredict = bestSVMM.predict(X_test)"
   ]
  },
  {
   "cell_type": "markdown",
   "id": "f1f960aa-b1e9-475b-bca0-b78aeb215a24",
   "metadata": {},
   "source": [
    "### LSTM"
   ]
  },
  {
   "cell_type": "code",
   "execution_count": 203,
   "id": "c971d3ee-bf09-48d0-92a4-9164d0c72d2b",
   "metadata": {},
   "outputs": [],
   "source": [
    "tokenizr = Tokenizer() # Create a tokenizer and fit on the tokenized words\n",
    "flat_tokens = [token for sublist in df['Tokens'].values for token in sublist] # Flatten the list of tokens and fit the tokenizer\n",
    "tokenizr.fit_on_texts(flat_tokens)\n",
    "X = tokenizr.texts_to_sequences(df['Tokens'].apply(lambda x: ' '.join(x)))# Convert token lists to sequences\n",
    "X = pad_sequences(X, padding='post')# Padding sequences to make them of equal length"
   ]
  },
  {
   "cell_type": "code",
   "execution_count": 204,
   "id": "38240ee5-4a4a-4d4f-9403-7e1bb6da99ce",
   "metadata": {},
   "outputs": [],
   "source": [
    "# Train-test split\n",
    "X_train, X_test, y_train, y_test = train_test_split(X, y, test_size=0.2, random_state=42)"
   ]
  },
  {
   "cell_type": "code",
   "execution_count": 205,
   "id": "8522c249-c73c-40e8-8361-f6f3445c73a6",
   "metadata": {},
   "outputs": [
    {
     "name": "stdout",
     "output_type": "stream",
     "text": [
      "Model: \"sequential_4\"\n",
      "_________________________________________________________________\n",
      " Layer (type)                Output Shape              Param #   \n",
      "=================================================================\n",
      " embedding_4 (Embedding)     (None, 17, 50)            34600     \n",
      "                                                                 \n",
      " lstm_4 (LSTM)               (None, 64)                29440     \n",
      "                                                                 \n",
      " dropout_4 (Dropout)         (None, 64)                0         \n",
      "                                                                 \n",
      " dense_4 (Dense)             (None, 1)                 65        \n",
      "                                                                 \n",
      "=================================================================\n",
      "Total params: 64105 (250.41 KB)\n",
      "Trainable params: 64105 (250.41 KB)\n",
      "Non-trainable params: 0 (0.00 Byte)\n",
      "_________________________________________________________________\n"
     ]
    }
   ],
   "source": [
    "model = Sequential() # Define the LSTM model\n",
    "vocab_size = len(tokenizer.word_index) + 1  # +1 for padding token\n",
    "embedding_dim = 50  \n",
    "model.add(Embedding(input_dim=vocab_size, output_dim=embedding_dim, input_length=X.shape[1])) # Add an embedding layer\n",
    "model.add(LSTM(units=64, return_sequences=False)) # Add LSTM layer with fewer units to avoid overfitting\n",
    "model.add(Dropout(0.3))  # Dropout layer to reduce overfitting\n",
    "model.add(Dense(1, activation='sigmoid'))  # Add Dense output layer, Sigmoid activation for binary classification\n",
    "model.compile(optimizer='adam', loss='binary_crossentropy', metrics=['accuracy']) # Compile the model\n",
    "model.summary()"
   ]
  },
  {
   "cell_type": "code",
   "execution_count": 206,
   "id": "51b74c2a-58c7-4d4c-9000-071f91051ea8",
   "metadata": {},
   "outputs": [
    {
     "name": "stdout",
     "output_type": "stream",
     "text": [
      "Epoch 1/10\n",
      "11/11 [==============================] - 2s 61ms/step - loss: 0.6769 - accuracy: 0.6395 - val_loss: 0.6742 - val_accuracy: 0.5747\n",
      "Epoch 2/10\n",
      "11/11 [==============================] - 0s 13ms/step - loss: 0.6227 - accuracy: 0.6657 - val_loss: 0.6863 - val_accuracy: 0.5747\n",
      "Epoch 3/10\n",
      "11/11 [==============================] - 0s 12ms/step - loss: 0.5713 - accuracy: 0.6657 - val_loss: 0.5507 - val_accuracy: 0.5977\n",
      "Epoch 4/10\n",
      "11/11 [==============================] - 0s 12ms/step - loss: 0.3109 - accuracy: 0.8692 - val_loss: 0.3837 - val_accuracy: 0.8736\n",
      "Epoch 5/10\n",
      "11/11 [==============================] - 0s 12ms/step - loss: 0.1414 - accuracy: 0.9622 - val_loss: 0.4844 - val_accuracy: 0.8736\n",
      "Epoch 6/10\n",
      "11/11 [==============================] - 0s 12ms/step - loss: 0.0806 - accuracy: 0.9797 - val_loss: 0.4736 - val_accuracy: 0.8851\n",
      "Epoch 7/10\n",
      "11/11 [==============================] - 0s 12ms/step - loss: 0.0375 - accuracy: 0.9942 - val_loss: 0.3895 - val_accuracy: 0.9195\n",
      "Epoch 8/10\n",
      "11/11 [==============================] - 0s 12ms/step - loss: 0.0257 - accuracy: 0.9971 - val_loss: 0.4741 - val_accuracy: 0.8851\n",
      "Epoch 9/10\n",
      "11/11 [==============================] - 0s 12ms/step - loss: 0.0134 - accuracy: 0.9971 - val_loss: 0.4958 - val_accuracy: 0.8851\n",
      "Epoch 10/10\n",
      "11/11 [==============================] - 0s 12ms/step - loss: 0.0055 - accuracy: 1.0000 - val_loss: 0.3954 - val_accuracy: 0.9195\n"
     ]
    }
   ],
   "source": [
    "history = model.fit(X_train, y_train, epochs=10, batch_size=32, validation_split=0.2) # Train the LSTM model"
   ]
  },
  {
   "cell_type": "code",
   "execution_count": 207,
   "id": "1ffb167b-d1aa-4480-a48f-566a5bb9d734",
   "metadata": {},
   "outputs": [
    {
     "name": "stdout",
     "output_type": "stream",
     "text": [
      "4/4 [==============================] - 0s 5ms/step - loss: 0.3546 - accuracy: 0.9259\n",
      "Test Accuracy: 0.9259\n"
     ]
    }
   ],
   "source": [
    "loss, accuracy = model.evaluate(X_test, y_test) # Evaluate the model on the test set\n",
    "print('Test Accuracy: {:.4f}'.format(accuracy))"
   ]
  },
  {
   "cell_type": "code",
   "execution_count": 208,
   "id": "fda946f3-be87-4c5f-a8ed-7a7e4cd7a337",
   "metadata": {},
   "outputs": [
    {
     "name": "stdout",
     "output_type": "stream",
     "text": [
      "4/4 [==============================] - 0s 6ms/step\n"
     ]
    }
   ],
   "source": [
    "y_pred = model.predict(X_test) # Predict on the test set\n",
    "y_pred = np.round(y_pred).astype(int)  # Convert probabilities to 0 or 1\n",
    "y_pred_labels = label_encoder.inverse_transform(y_pred.flatten()) # Convert predictions back to labels"
   ]
  },
  {
   "cell_type": "code",
   "execution_count": 210,
   "id": "173db43d-55dc-4289-bf83-072ddb23d9af",
   "metadata": {},
   "outputs": [
    {
     "name": "stdout",
     "output_type": "stream",
     "text": [
      "4/4 [==============================] - 0s 4ms/step\n"
     ]
    },
    {
     "data": {
      "image/png": "[encoded data removed]",
      "text/plain": [
       "<Figure size 640x480 with 2 Axes>"
      ]
     },
     "metadata": {},
     "output_type": "display_data"
    }
   ],
   "source": [
    "y_test_pred = (model.predict(X_test) > 0.5).astype(int) # Predict on the test set\n",
    "# Compute confusion matrix\n",
    "cm = confusion_matrix(y_test, y_test_pred)\n",
    "# Display confusion matrix\n",
    "disp = ConfusionMatrixDisplay(confusion_matrix=cm)\n",
    "disp.plot(cmap=plt.cm.Blues)\n",
    "plt.show()"
   ]
  },
  {
   "cell_type": "code",
   "execution_count": 212,
   "id": "4d5c09e4-8384-4e98-8fd4-8793b46cf048",
   "metadata": {},
   "outputs": [
    {
     "data": {
      "image/png": "[encoded data removed]",
      "text/plain": [
       "<Figure size 1200x600 with 2 Axes>"
      ]
     },
     "metadata": {},
     "output_type": "display_data"
    }
   ],
   "source": [
    "plt.figure(figsize=(12, 6))\n",
    "plt.subplot(1, 2, 1)\n",
    "plt.plot(history.history['accuracy'])\n",
    "plt.plot(history.history['val_accuracy'])\n",
    "plt.title('Model Accuracy')\n",
    "plt.xlabel('Epoch')\n",
    "plt.ylabel('Accuracy')\n",
    "plt.legend(['Train', 'Validation'])\n",
    "\n",
    "# Plot training & validation loss values\n",
    "plt.subplot(1, 2, 2)\n",
    "plt.plot(history.history['loss'])\n",
    "plt.plot(history.history['val_loss'])\n",
    "plt.title('Model Loss')\n",
    "plt.xlabel('Epoch')\n",
    "plt.ylabel('Loss')\n",
    "plt.legend(['Train', 'Validation'])\n",
    "plt.show()"
   ]
  },
  {
   "cell_type": "code",
   "execution_count": 213,
   "id": "6dda1cc2-63e7-4918-8291-6348ce78fd04",
   "metadata": {},
   "outputs": [
    {
     "name": "stdout",
     "output_type": "stream",
     "text": [
      "Training Loss: 0.0842, Training Accuracy: 0.9838\n",
      "Validation Loss: 0.3546, Validation Accuracy: 0.9259\n"
     ]
    }
   ],
   "source": [
    "train_loss, train_accuracy = model.evaluate(X_train, y_train, verbose=0) # Check final metrics\n",
    "val_loss, val_accuracy = model.evaluate(X_test, y_test, verbose=0)\n",
    "\n",
    "print('Training Loss: {:.4f}, Training Accuracy: {:.4f}'.format(train_loss, train_accuracy))\n",
    "print('Validation Loss: {:.4f}, Validation Accuracy: {:.4f}'.format(val_loss, val_accuracy))"
   ]
  },
  {
   "cell_type": "code",
   "execution_count": 214,
   "id": "03783c49-4b48-4137-9c74-27433fc36937",
   "metadata": {},
   "outputs": [
    {
     "name": "stdout",
     "output_type": "stream",
     "text": [
      "4/4 [==============================] - 0s 4ms/step\n",
      "Classification Report:\n",
      "              precision    recall  f1-score   support\n",
      "\n",
      "           0       0.93      0.97      0.95        77\n",
      "           1       0.93      0.81      0.86        31\n",
      "\n",
      "    accuracy                           0.93       108\n",
      "   macro avg       0.93      0.89      0.91       108\n",
      "weighted avg       0.93      0.93      0.92       108\n",
      "\n",
      "Confusion Matrix:\n",
      "[[75  2]\n",
      " [ 6 25]]\n"
     ]
    }
   ],
   "source": [
    "y_pred_prob = model.predict(X_test) # Predict class labels on the test set\n",
    "y_pred_class = (y_pred_prob > 0.5).astype(\"int32\")  # Convert probabilities to binary class (0 or 1)\n",
    "print(\"Classification Report:\")\n",
    "print(classification_report(y_test, y_pred_class))\n",
    "print(\"Confusion Matrix:\")\n",
    "print(confusion_matrix(y_test, y_pred_class))"
   ]
  },
  {
   "cell_type": "code",
   "execution_count": null,
   "id": "339f6308-cccf-4d66-9781-3db94adc2a4c",
   "metadata": {},
   "outputs": [],
   "source": []
  }
 ],
 "metadata": {
  "kernelspec": {
   "display_name": "Python 3 (ipykernel)",
   "language": "python",
   "name": "python3"
  },
  "language_info": {
   "codemirror_mode": {
    "name": "ipython",
    "version": 3
   },
   "file_extension": ".py",
   "mimetype": "text/x-python",
   "name": "python",
   "nbconvert_exporter": "python",
   "pygments_lexer": "ipython3",
   "version": "3.11.5"
  }
 },
 "nbformat": 4,
 "nbformat_minor": 5
}
